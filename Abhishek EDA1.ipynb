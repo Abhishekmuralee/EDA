{
 "cells": [
  {
   "cell_type": "markdown",
   "metadata": {},
   "source": [
    "                                        \n",
    "# \"SUPER MARKET SALES\"\n",
    "    "
   ]
  },
  {
   "cell_type": "markdown",
   "metadata": {},
   "source": [
    "INTRODUCTION\n",
    "\n",
    "The growth of supermarkets in most populated cities are increasing and market competitions are also high. the dataset is one of the historical sales of super market company which has recorded in 3 different branches for 3 monts data."
   ]
  },
  {
   "cell_type": "markdown",
   "metadata": {},
   "source": [
    "import all libraries that is needed for the project "
   ]
  },
  {
   "cell_type": "code",
   "execution_count": 2,
   "metadata": {},
   "outputs": [],
   "source": [
    "import pandas as pd \n",
    "import numpy as np\n",
    "import matplotlib.pyplot as plt\n",
    "import seaborn as sns"
   ]
  },
  {
   "cell_type": "markdown",
   "metadata": {},
   "source": [
    "import the dataframe "
   ]
  },
  {
   "cell_type": "code",
   "execution_count": 3,
   "metadata": {},
   "outputs": [],
   "source": [
    "import pandas as pd\n",
    "df=pd.read_csv(\"D:\\DATA ANALYTICS\\PROJECT\\supermarket_sales.csv\")\n"
   ]
  },
  {
   "cell_type": "markdown",
   "metadata": {},
   "source": [
    "Analysing by taking first 10 rows of the data to get an overviewysing Dataframe"
   ]
  },
  {
   "cell_type": "code",
   "execution_count": 4,
   "metadata": {},
   "outputs": [
    {
     "name": "stdout",
     "output_type": "stream",
     "text": [
      "     InvoiceID Branch       City Customertype  Gender             Productline  \\\n",
      "0  750-67-8428      A     Yangon       Member  Female       Health and beauty   \n",
      "1  226-31-3081      C  Naypyitaw       Normal  Female  Electronic accessories   \n",
      "2  631-41-3108      A     Yangon       Normal    Male      Home and lifestyle   \n",
      "3  123-19-1176      A     Yangon       Member    Male       Health and beauty   \n",
      "4  373-73-7910      A     Yangon       Normal    Male       Sports and travel   \n",
      "5  699-14-3026      C  Naypyitaw       Normal    Male  Electronic accessories   \n",
      "6  355-53-5943      A     Yangon       Member  Female  Electronic accessories   \n",
      "7  315-22-5665      C  Naypyitaw       Normal  Female      Home and lifestyle   \n",
      "8  665-32-9167      A     Yangon       Member  Female       Health and beauty   \n",
      "9  692-92-5582      B   Mandalay       Member  Female      Food and beverages   \n",
      "\n",
      "   Unitprice  Quantity    Tax5%     Total       Date   Time      Payment  \\\n",
      "0      74.69         7  26.1415  548.9715   1/5/2019  13:08      Ewallet   \n",
      "1      15.28         5   3.8200   80.2200   3/8/2019  10:29         Cash   \n",
      "2      46.33         7  16.2155  340.5255   3/3/2019  13:23  Credit card   \n",
      "3      58.22         8  23.2880  489.0480  1/27/2019  20:33      Ewallet   \n",
      "4      86.31         7  30.2085  634.3785   2/8/2019  10:37      Ewallet   \n",
      "5      85.39         7  29.8865  627.6165  3/25/2019  18:30      Ewallet   \n",
      "6      68.84         6  20.6520  433.6920  2/25/2019  14:36      Ewallet   \n",
      "7      73.56        10  36.7800  772.3800  2/24/2019  11:38      Ewallet   \n",
      "8      36.26         2   3.6260   76.1460  1/10/2019  17:15  Credit card   \n",
      "9      54.84         3   8.2260  172.7460  2/20/2019  13:27  Credit card   \n",
      "\n",
      "     cogs  grossmarginpercentage  grossincome  Rating  \n",
      "0  522.83               4.761905      26.1415     9.1  \n",
      "1   76.40               4.761905       3.8200     9.6  \n",
      "2  324.31               4.761905      16.2155     7.4  \n",
      "3  465.76               4.761905      23.2880     8.4  \n",
      "4  604.17               4.761905      30.2085     5.3  \n",
      "5  597.73               4.761905      29.8865     4.1  \n",
      "6  413.04               4.761905      20.6520     5.8  \n",
      "7  735.60               4.761905      36.7800     8.0  \n",
      "8   72.52               4.761905       3.6260     7.2  \n",
      "9  164.52               4.761905       8.2260     5.9  \n"
     ]
    }
   ],
   "source": [
    "print(df.head(10))"
   ]
  },
  {
   "cell_type": "markdown",
   "metadata": {},
   "source": [
    "Analysing by taking last 10 rows of the data to get an overviewysing Dataframe"
   ]
  },
  {
   "cell_type": "code",
   "execution_count": 5,
   "metadata": {},
   "outputs": [
    {
     "name": "stdout",
     "output_type": "stream",
     "text": [
      "       InvoiceID Branch       City Customertype  Gender  \\\n",
      "990  886-18-2897      A     Yangon       Normal  Female   \n",
      "991  602-16-6955      B   Mandalay       Normal  Female   \n",
      "992  745-74-0715      A     Yangon       Normal    Male   \n",
      "993  690-01-6631      B   Mandalay       Normal    Male   \n",
      "994  652-49-6720      C  Naypyitaw       Member  Female   \n",
      "995  233-67-5758      C  Naypyitaw       Normal    Male   \n",
      "996  303-96-2227      B   Mandalay       Normal  Female   \n",
      "997  727-02-1313      A     Yangon       Member    Male   \n",
      "998  347-56-2442      A     Yangon       Normal    Male   \n",
      "999  849-09-3807      A     Yangon       Member  Female   \n",
      "\n",
      "                Productline  Unitprice  Quantity    Tax5%      Total  \\\n",
      "990      Food and beverages      56.56         5  14.1400   296.9400   \n",
      "991       Sports and travel      76.60        10  38.3000   804.3000   \n",
      "992  Electronic accessories      58.03         2   5.8030   121.8630   \n",
      "993     Fashion accessories      17.49        10   8.7450   183.6450   \n",
      "994  Electronic accessories      60.95         1   3.0475    63.9975   \n",
      "995       Health and beauty      40.35         1   2.0175    42.3675   \n",
      "996      Home and lifestyle      97.38        10  48.6900  1022.4900   \n",
      "997      Food and beverages      31.84         1   1.5920    33.4320   \n",
      "998      Home and lifestyle      65.82         1   3.2910    69.1110   \n",
      "999     Fashion accessories      88.34         7  30.9190   649.2990   \n",
      "\n",
      "          Date   Time      Payment    cogs  grossmarginpercentage  \\\n",
      "990  3/22/2019  19:06  Credit card  282.80               4.761905   \n",
      "991  1/24/2019  18:10      Ewallet  766.00               4.761905   \n",
      "992  3/10/2019  20:46      Ewallet  116.06               4.761905   \n",
      "993  2/22/2019  18:35      Ewallet  174.90               4.761905   \n",
      "994  2/18/2019  11:40      Ewallet   60.95               4.761905   \n",
      "995  1/29/2019  13:46      Ewallet   40.35               4.761905   \n",
      "996   3/2/2019  17:16      Ewallet  973.80               4.761905   \n",
      "997   2/9/2019  13:22         Cash   31.84               4.761905   \n",
      "998  2/22/2019  15:33         Cash   65.82               4.761905   \n",
      "999  2/18/2019  13:28         Cash  618.38               4.761905   \n",
      "\n",
      "     grossincome  Rating  \n",
      "990      14.1400     4.5  \n",
      "991      38.3000     6.0  \n",
      "992       5.8030     8.8  \n",
      "993       8.7450     6.6  \n",
      "994       3.0475     5.9  \n",
      "995       2.0175     6.2  \n",
      "996      48.6900     4.4  \n",
      "997       1.5920     7.7  \n",
      "998       3.2910     4.1  \n",
      "999      30.9190     6.6  \n"
     ]
    }
   ],
   "source": [
    "print(df.tail(10))"
   ]
  },
  {
   "cell_type": "markdown",
   "metadata": {},
   "source": [
    "Taking all information about the dataframe using .info()"
   ]
  },
  {
   "cell_type": "code",
   "execution_count": 6,
   "metadata": {},
   "outputs": [
    {
     "name": "stdout",
     "output_type": "stream",
     "text": [
      "<class 'pandas.core.frame.DataFrame'>\n",
      "RangeIndex: 1000 entries, 0 to 999\n",
      "Data columns (total 17 columns):\n",
      " #   Column                 Non-Null Count  Dtype  \n",
      "---  ------                 --------------  -----  \n",
      " 0   InvoiceID              1000 non-null   object \n",
      " 1   Branch                 1000 non-null   object \n",
      " 2   City                   1000 non-null   object \n",
      " 3   Customertype           1000 non-null   object \n",
      " 4   Gender                 1000 non-null   object \n",
      " 5   Productline            1000 non-null   object \n",
      " 6   Unitprice              1000 non-null   float64\n",
      " 7   Quantity               1000 non-null   int64  \n",
      " 8   Tax5%                  1000 non-null   float64\n",
      " 9   Total                  1000 non-null   float64\n",
      " 10  Date                   1000 non-null   object \n",
      " 11  Time                   1000 non-null   object \n",
      " 12  Payment                1000 non-null   object \n",
      " 13  cogs                   1000 non-null   float64\n",
      " 14  grossmarginpercentage  1000 non-null   float64\n",
      " 15  grossincome            1000 non-null   float64\n",
      " 16  Rating                 1000 non-null   float64\n",
      "dtypes: float64(7), int64(1), object(9)\n",
      "memory usage: 132.9+ KB\n",
      "None\n"
     ]
    }
   ],
   "source": [
    "print(df.info())"
   ]
  },
  {
   "cell_type": "markdown",
   "metadata": {},
   "source": [
    "check whether there is any empty or null cell column vise"
   ]
  },
  {
   "cell_type": "code",
   "execution_count": 7,
   "metadata": {},
   "outputs": [
    {
     "name": "stdout",
     "output_type": "stream",
     "text": [
      "InvoiceID                0\n",
      "Branch                   0\n",
      "City                     0\n",
      "Customertype             0\n",
      "Gender                   0\n",
      "Productline              0\n",
      "Unitprice                0\n",
      "Quantity                 0\n",
      "Tax5%                    0\n",
      "Total                    0\n",
      "Date                     0\n",
      "Time                     0\n",
      "Payment                  0\n",
      "cogs                     0\n",
      "grossmarginpercentage    0\n",
      "grossincome              0\n",
      "Rating                   0\n",
      "dtype: int64\n"
     ]
    }
   ],
   "source": [
    "print(df.isna().sum())"
   ]
  },
  {
   "cell_type": "markdown",
   "metadata": {},
   "source": [
    "check whether there is any empty or null cell in total"
   ]
  },
  {
   "cell_type": "code",
   "execution_count": 8,
   "metadata": {},
   "outputs": [
    {
     "name": "stdout",
     "output_type": "stream",
     "text": [
      "0\n"
     ]
    }
   ],
   "source": [
    "print(df.isna().sum().sum())"
   ]
  },
  {
   "cell_type": "markdown",
   "metadata": {},
   "source": [
    "Remove rows that contain empty cells and return a new data frame"
   ]
  },
  {
   "cell_type": "code",
   "execution_count": 9,
   "metadata": {},
   "outputs": [
    {
     "name": "stdout",
     "output_type": "stream",
     "text": [
      "       InvoiceID Branch       City Customertype  Gender  \\\n",
      "0    750-67-8428      A     Yangon       Member  Female   \n",
      "1    226-31-3081      C  Naypyitaw       Normal  Female   \n",
      "2    631-41-3108      A     Yangon       Normal    Male   \n",
      "3    123-19-1176      A     Yangon       Member    Male   \n",
      "4    373-73-7910      A     Yangon       Normal    Male   \n",
      "..           ...    ...        ...          ...     ...   \n",
      "995  233-67-5758      C  Naypyitaw       Normal    Male   \n",
      "996  303-96-2227      B   Mandalay       Normal  Female   \n",
      "997  727-02-1313      A     Yangon       Member    Male   \n",
      "998  347-56-2442      A     Yangon       Normal    Male   \n",
      "999  849-09-3807      A     Yangon       Member  Female   \n",
      "\n",
      "                Productline  Unitprice  Quantity    Tax5%      Total  \\\n",
      "0         Health and beauty      74.69         7  26.1415   548.9715   \n",
      "1    Electronic accessories      15.28         5   3.8200    80.2200   \n",
      "2        Home and lifestyle      46.33         7  16.2155   340.5255   \n",
      "3         Health and beauty      58.22         8  23.2880   489.0480   \n",
      "4         Sports and travel      86.31         7  30.2085   634.3785   \n",
      "..                      ...        ...       ...      ...        ...   \n",
      "995       Health and beauty      40.35         1   2.0175    42.3675   \n",
      "996      Home and lifestyle      97.38        10  48.6900  1022.4900   \n",
      "997      Food and beverages      31.84         1   1.5920    33.4320   \n",
      "998      Home and lifestyle      65.82         1   3.2910    69.1110   \n",
      "999     Fashion accessories      88.34         7  30.9190   649.2990   \n",
      "\n",
      "          Date   Time      Payment    cogs  grossmarginpercentage  \\\n",
      "0     1/5/2019  13:08      Ewallet  522.83               4.761905   \n",
      "1     3/8/2019  10:29         Cash   76.40               4.761905   \n",
      "2     3/3/2019  13:23  Credit card  324.31               4.761905   \n",
      "3    1/27/2019  20:33      Ewallet  465.76               4.761905   \n",
      "4     2/8/2019  10:37      Ewallet  604.17               4.761905   \n",
      "..         ...    ...          ...     ...                    ...   \n",
      "995  1/29/2019  13:46      Ewallet   40.35               4.761905   \n",
      "996   3/2/2019  17:16      Ewallet  973.80               4.761905   \n",
      "997   2/9/2019  13:22         Cash   31.84               4.761905   \n",
      "998  2/22/2019  15:33         Cash   65.82               4.761905   \n",
      "999  2/18/2019  13:28         Cash  618.38               4.761905   \n",
      "\n",
      "     grossincome  Rating  \n",
      "0        26.1415     9.1  \n",
      "1         3.8200     9.6  \n",
      "2        16.2155     7.4  \n",
      "3        23.2880     8.4  \n",
      "4        30.2085     5.3  \n",
      "..           ...     ...  \n",
      "995       2.0175     6.2  \n",
      "996      48.6900     4.4  \n",
      "997       1.5920     7.7  \n",
      "998       3.2910     4.1  \n",
      "999      30.9190     6.6  \n",
      "\n",
      "[1000 rows x 17 columns]\n"
     ]
    }
   ],
   "source": [
    "print(df.dropna())"
   ]
  },
  {
   "cell_type": "markdown",
   "metadata": {},
   "source": [
    "Remove all rows with null values from the original dataframe"
   ]
  },
  {
   "cell_type": "code",
   "execution_count": 10,
   "metadata": {},
   "outputs": [],
   "source": [
    "df.dropna(inplace=True)"
   ]
  },
  {
   "cell_type": "markdown",
   "metadata": {},
   "source": [
    "Converting to the orginal Date format"
   ]
  },
  {
   "cell_type": "code",
   "execution_count": 11,
   "metadata": {},
   "outputs": [
    {
     "name": "stdout",
     "output_type": "stream",
     "text": [
      "     InvoiceID Branch       City Customertype  Gender             Productline  \\\n",
      "0  750-67-8428      A     Yangon       Member  Female       Health and beauty   \n",
      "1  226-31-3081      C  Naypyitaw       Normal  Female  Electronic accessories   \n",
      "2  631-41-3108      A     Yangon       Normal    Male      Home and lifestyle   \n",
      "3  123-19-1176      A     Yangon       Member    Male       Health and beauty   \n",
      "4  373-73-7910      A     Yangon       Normal    Male       Sports and travel   \n",
      "\n",
      "   Unitprice  Quantity    Tax5%     Total       Date   Time      Payment  \\\n",
      "0      74.69         7  26.1415  548.9715 2019-01-05  13:08      Ewallet   \n",
      "1      15.28         5   3.8200   80.2200 2019-03-08  10:29         Cash   \n",
      "2      46.33         7  16.2155  340.5255 2019-03-03  13:23  Credit card   \n",
      "3      58.22         8  23.2880  489.0480 2019-01-27  20:33      Ewallet   \n",
      "4      86.31         7  30.2085  634.3785 2019-02-08  10:37      Ewallet   \n",
      "\n",
      "     cogs  grossmarginpercentage  grossincome  Rating  \n",
      "0  522.83               4.761905      26.1415     9.1  \n",
      "1   76.40               4.761905       3.8200     9.6  \n",
      "2  324.31               4.761905      16.2155     7.4  \n",
      "3  465.76               4.761905      23.2880     8.4  \n",
      "4  604.17               4.761905      30.2085     5.3  \n"
     ]
    }
   ],
   "source": [
    "df[\"Date\"]=pd.to_datetime(df[\"Date\"])\n",
    "print(df.head())"
   ]
  },
  {
   "cell_type": "markdown",
   "metadata": {},
   "source": [
    "To remove the null value in \"Date\" column"
   ]
  },
  {
   "cell_type": "code",
   "execution_count": 12,
   "metadata": {},
   "outputs": [],
   "source": [
    "df[\"Date\"]=pd.to_datetime(df[\"Date\"])\n",
    "df.dropna(subset=[\"Date\"],inplace=True)"
   ]
  },
  {
   "cell_type": "markdown",
   "metadata": {},
   "source": [
    "To check Duplicates values"
   ]
  },
  {
   "cell_type": "code",
   "execution_count": 13,
   "metadata": {},
   "outputs": [
    {
     "name": "stdout",
     "output_type": "stream",
     "text": [
      "0      False\n",
      "1      False\n",
      "2      False\n",
      "3      False\n",
      "4      False\n",
      "       ...  \n",
      "995    False\n",
      "996    False\n",
      "997    False\n",
      "998    False\n",
      "999    False\n",
      "Length: 1000, dtype: bool\n"
     ]
    }
   ],
   "source": [
    "print(df.duplicated())"
   ]
  },
  {
   "cell_type": "markdown",
   "metadata": {},
   "source": [
    "To removes duplicates values"
   ]
  },
  {
   "cell_type": "code",
   "execution_count": 14,
   "metadata": {},
   "outputs": [
    {
     "name": "stdout",
     "output_type": "stream",
     "text": [
      "None\n"
     ]
    }
   ],
   "source": [
    "print(df.drop_duplicates(inplace=True))"
   ]
  },
  {
   "cell_type": "markdown",
   "metadata": {},
   "source": [
    "To check outalyers"
   ]
  },
  {
   "cell_type": "code",
   "execution_count": 15,
   "metadata": {},
   "outputs": [
    {
     "data": {
      "image/png": "[encoded data removed]",
      "text/plain": [
       "<Figure size 640x480 with 1 Axes>"
      ]
     },
     "metadata": {},
     "output_type": "display_data"
    }
   ],
   "source": [
    "\n",
    "import seaborn as sns\n",
    "import matplotlib.pyplot as plt\n",
    "sns.boxplot(data=df) \n",
    "plt.xticks(rotation=90)\n",
    "plt.show()"
   ]
  },
  {
   "cell_type": "markdown",
   "metadata": {},
   "source": [
    "To check correlation of columns"
   ]
  },
  {
   "cell_type": "code",
   "execution_count": 16,
   "metadata": {},
   "outputs": [
    {
     "name": "stdout",
     "output_type": "stream",
     "text": [
      "                       Unitprice  Quantity     Tax5%     Total      cogs  \\\n",
      "Unitprice               1.000000  0.010778  0.633962  0.633962  0.633962   \n",
      "Quantity                0.010778  1.000000  0.705510  0.705510  0.705510   \n",
      "Tax5%                   0.633962  0.705510  1.000000  1.000000  1.000000   \n",
      "Total                   0.633962  0.705510  1.000000  1.000000  1.000000   \n",
      "cogs                    0.633962  0.705510  1.000000  1.000000  1.000000   \n",
      "grossmarginpercentage        NaN       NaN       NaN       NaN       NaN   \n",
      "grossincome             0.633962  0.705510  1.000000  1.000000  1.000000   \n",
      "Rating                 -0.008778 -0.015815 -0.036442 -0.036442 -0.036442   \n",
      "\n",
      "                       grossmarginpercentage  grossincome    Rating  \n",
      "Unitprice                                NaN     0.633962 -0.008778  \n",
      "Quantity                                 NaN     0.705510 -0.015815  \n",
      "Tax5%                                    NaN     1.000000 -0.036442  \n",
      "Total                                    NaN     1.000000 -0.036442  \n",
      "cogs                                     NaN     1.000000 -0.036442  \n",
      "grossmarginpercentage                    NaN          NaN       NaN  \n",
      "grossincome                              NaN     1.000000 -0.036442  \n",
      "Rating                                   NaN    -0.036442  1.000000  \n"
     ]
    }
   ],
   "source": [
    "cor=df.corr(numeric_only=True)\n",
    "print(cor)"
   ]
  },
  {
   "cell_type": "code",
   "execution_count": 17,
   "metadata": {},
   "outputs": [
    {
     "data": {
      "image/png": "[encoded data removed]",
      "text/plain": [
       "<Figure size 640x480 with 2 Axes>"
      ]
     },
     "metadata": {},
     "output_type": "display_data"
    }
   ],
   "source": [
    "sns.heatmap(cor)\n",
    "plt.show()"
   ]
  },
  {
   "cell_type": "markdown",
   "metadata": {},
   "source": [
    "To check co-variance of columns"
   ]
  },
  {
   "cell_type": "code",
   "execution_count": 18,
   "metadata": {},
   "outputs": [
    {
     "name": "stdout",
     "output_type": "stream",
     "text": [
      "                         Unitprice    Quantity        Tax5%         Total  \\\n",
      "Unitprice               701.965331    0.834778   196.668340   4130.035142   \n",
      "Quantity                  0.834778    8.546446    24.149570    507.140978   \n",
      "Tax5%                   196.668340   24.149570   137.096594   2879.028477   \n",
      "Total                  4130.035142  507.140978  2879.028477  60459.598018   \n",
      "cogs                   3933.366802  482.991408  2741.931883  57580.569541   \n",
      "grossmarginpercentage     0.000000    0.000000     0.000000      0.000000   \n",
      "grossincome             196.668340   24.149570   137.096594   2879.028477   \n",
      "Rating                   -0.399668   -0.079456    -0.733300    -15.399306   \n",
      "\n",
      "                               cogs  grossmarginpercentage  grossincome  \\\n",
      "Unitprice               3933.366802                    0.0   196.668340   \n",
      "Quantity                 482.991408                    0.0    24.149570   \n",
      "Tax5%                   2741.931883                    0.0   137.096594   \n",
      "Total                  57580.569541                    0.0  2879.028477   \n",
      "cogs                   54838.637658                    0.0  2741.931883   \n",
      "grossmarginpercentage      0.000000                    0.0     0.000000   \n",
      "grossincome             2741.931883                    0.0   137.096594   \n",
      "Rating                   -14.666006                    0.0    -0.733300   \n",
      "\n",
      "                          Rating  \n",
      "Unitprice              -0.399668  \n",
      "Quantity               -0.079456  \n",
      "Tax5%                  -0.733300  \n",
      "Total                 -15.399306  \n",
      "cogs                  -14.666006  \n",
      "grossmarginpercentage   0.000000  \n",
      "grossincome            -0.733300  \n",
      "Rating                  2.953518  \n"
     ]
    }
   ],
   "source": [
    "print(df.cov(numeric_only=True))"
   ]
  },
  {
   "cell_type": "markdown",
   "metadata": {},
   "source": [
    "To check standard deviation of columns"
   ]
  },
  {
   "cell_type": "code",
   "execution_count": 19,
   "metadata": {},
   "outputs": [
    {
     "name": "stdout",
     "output_type": "stream",
     "text": [
      "Unitprice                 26.494628\n",
      "Quantity                   2.923431\n",
      "Tax5%                     11.708825\n",
      "Total                    245.885335\n",
      "cogs                     234.176510\n",
      "grossmarginpercentage      0.000000\n",
      "grossincome               11.708825\n",
      "Rating                     1.718580\n",
      "dtype: float64\n"
     ]
    }
   ],
   "source": [
    "print(df.std(numeric_only=True))"
   ]
  },
  {
   "cell_type": "markdown",
   "metadata": {},
   "source": [
    "To check statistics functions"
   ]
  },
  {
   "cell_type": "code",
   "execution_count": 20,
   "metadata": {},
   "outputs": [
    {
     "name": "stdout",
     "output_type": "stream",
     "text": [
      "         Unitprice     Quantity        Tax5%        Total  \\\n",
      "count  1000.000000  1000.000000  1000.000000  1000.000000   \n",
      "mean     55.672130     5.510000    15.379369   322.966749   \n",
      "min      10.080000     1.000000     0.508500    10.678500   \n",
      "25%      32.875000     3.000000     5.924875   124.422375   \n",
      "50%      55.230000     5.000000    12.088000   253.848000   \n",
      "75%      77.935000     8.000000    22.445250   471.350250   \n",
      "max      99.960000    10.000000    49.650000  1042.650000   \n",
      "std      26.494628     2.923431    11.708825   245.885335   \n",
      "\n",
      "                             Date        cogs  grossmarginpercentage  \\\n",
      "count                        1000  1000.00000            1000.000000   \n",
      "mean   2019-02-14 00:05:45.600000   307.58738               4.761905   \n",
      "min           2019-01-01 00:00:00    10.17000               4.761905   \n",
      "25%           2019-01-24 00:00:00   118.49750               4.761905   \n",
      "50%           2019-02-13 00:00:00   241.76000               4.761905   \n",
      "75%           2019-03-08 00:00:00   448.90500               4.761905   \n",
      "max           2019-03-30 00:00:00   993.00000               4.761905   \n",
      "std                           NaN   234.17651               0.000000   \n",
      "\n",
      "       grossincome      Rating  \n",
      "count  1000.000000  1000.00000  \n",
      "mean     15.379369     6.97270  \n",
      "min       0.508500     4.00000  \n",
      "25%       5.924875     5.50000  \n",
      "50%      12.088000     7.00000  \n",
      "75%      22.445250     8.50000  \n",
      "max      49.650000    10.00000  \n",
      "std      11.708825     1.71858  \n"
     ]
    }
   ],
   "source": [
    "print(df.describe())"
   ]
  },
  {
   "cell_type": "markdown",
   "metadata": {},
   "source": [
    "# QUESTION ANSWERS"
   ]
  },
  {
   "cell_type": "markdown",
   "metadata": {},
   "source": [
    "1.Which type of payment is most preferred"
   ]
  },
  {
   "cell_type": "code",
   "execution_count": 21,
   "metadata": {},
   "outputs": [
    {
     "name": "stdout",
     "output_type": "stream",
     "text": [
      "0    Ewallet\n",
      "Name: Payment, dtype: object\n"
     ]
    }
   ],
   "source": [
    "\n",
    "payment=df[\"Payment\"].mode()\n",
    "print(payment)\n"
   ]
  },
  {
   "cell_type": "markdown",
   "metadata": {},
   "source": [
    "2. What are the types of Branches in supermarket"
   ]
  },
  {
   "cell_type": "code",
   "execution_count": 22,
   "metadata": {},
   "outputs": [
    {
     "name": "stdout",
     "output_type": "stream",
     "text": [
      "['A' 'C' 'B']\n"
     ]
    }
   ],
   "source": [
    "\n",
    "Branches=df[\"Branch\"].unique()\n",
    "print(Branches)"
   ]
  },
  {
   "cell_type": "markdown",
   "metadata": {},
   "source": [
    "3. what are the variety product line in the supermarket"
   ]
  },
  {
   "cell_type": "code",
   "execution_count": null,
   "metadata": {},
   "outputs": [
    {
     "name": "stdout",
     "output_type": "stream",
     "text": [
      "['Health and beauty' 'Electronic accessories' 'Home and lifestyle'\n",
      " 'Sports and travel' 'Food and beverages' 'Fashion accessories']\n"
     ]
    }
   ],
   "source": [
    "\n",
    "product_line=df[\"Productline\"].unique()\n",
    "print(product_line)"
   ]
  },
  {
   "cell_type": "markdown",
   "metadata": {},
   "source": [
    "4. In which branch has highest Gross income"
   ]
  },
  {
   "cell_type": "code",
   "execution_count": 24,
   "metadata": {},
   "outputs": [
    {
     "name": "stdout",
     "output_type": "stream",
     "text": [
      "5265.1765\n",
      "Branch\n",
      "C    5265.1765\n",
      "Name: grossincome, dtype: float64\n"
     ]
    }
   ],
   "source": [
    "\n",
    "Branch=df.groupby(\"Branch\")[\"grossincome\"].sum()\n",
    "highest=Branch.max()\n",
    "\n",
    "print(highest)\n",
    "\n",
    "if 5265.1765 in Branch.values:\n",
    "    branch_with_income = Branch[Branch == 5265.1765]\n",
    "    print(branch_with_income)\n",
    "else:\n",
    "    print(\"No branch found with the specified gross income.\")\n",
    "\n"
   ]
  },
  {
   "cell_type": "markdown",
   "metadata": {},
   "source": [
    "5. How many customers are in each branch"
   ]
  },
  {
   "cell_type": "code",
   "execution_count": 25,
   "metadata": {},
   "outputs": [
    {
     "name": "stdout",
     "output_type": "stream",
     "text": [
      "Branch\n",
      "A    340\n",
      "B    332\n",
      "C    328\n",
      "Name: Total, dtype: int64\n"
     ]
    },
    {
     "data": {
      "image/png": "[encoded data removed]",
      "text/plain": [
       "<Figure size 640x480 with 1 Axes>"
      ]
     },
     "metadata": {},
     "output_type": "display_data"
    }
   ],
   "source": [
    "\n",
    "customer=df.groupby(\"Branch\")[\"Total\"].count()\n",
    "print(customer)\n",
    "\n",
    "customer.plot(kind=\"pie\",autopct=\"%1.f%%\",startangle=90)\n",
    "plt.axis(\"equal\")\n",
    "plt.show()"
   ]
  },
  {
   "cell_type": "markdown",
   "metadata": {},
   "source": [
    "6. How many male customers are in supermarket"
   ]
  },
  {
   "cell_type": "code",
   "execution_count": 26,
   "metadata": {},
   "outputs": [
    {
     "name": "stdout",
     "output_type": "stream",
     "text": [
      "1000\n"
     ]
    }
   ],
   "source": [
    "No_males=(df[\"Gender\"]==\"Male\")\n",
    "print(len(No_males))"
   ]
  },
  {
   "cell_type": "markdown",
   "metadata": {},
   "source": [
    "7. How many Female customers are in supermarket"
   ]
  },
  {
   "cell_type": "code",
   "execution_count": 27,
   "metadata": {},
   "outputs": [
    {
     "name": "stdout",
     "output_type": "stream",
     "text": [
      "1000\n"
     ]
    }
   ],
   "source": [
    "No_female=(df[\"Gender\"]==\"Female\")\n",
    "print(len(No_female))"
   ]
  },
  {
   "cell_type": "markdown",
   "metadata": {},
   "source": [
    "8. Which date has the highest total"
   ]
  },
  {
   "cell_type": "code",
   "execution_count": 28,
   "metadata": {},
   "outputs": [
    {
     "name": "stdout",
     "output_type": "stream",
     "text": [
      "2019-03-09 00:00:00\n"
     ]
    }
   ],
   "source": [
    "date=df.groupby(\"Date\")[\"Total\"].sum()\n",
    "highest=date.idxmax()\n",
    "print(highest)"
   ]
  },
  {
   "cell_type": "markdown",
   "metadata": {},
   "source": [
    "9. What is the highest unit price for a product"
   ]
  },
  {
   "cell_type": "code",
   "execution_count": 29,
   "metadata": {},
   "outputs": [
    {
     "name": "stdout",
     "output_type": "stream",
     "text": [
      "99.96\n"
     ]
    }
   ],
   "source": [
    "highest=np.max(df[\"Unitprice\"])\n",
    "print(highest)"
   ]
  },
  {
   "cell_type": "markdown",
   "metadata": {},
   "source": [
    "10. What is the average gross income"
   ]
  },
  {
   "cell_type": "code",
   "execution_count": 30,
   "metadata": {},
   "outputs": [
    {
     "name": "stdout",
     "output_type": "stream",
     "text": [
      "15.379368999999999\n"
     ]
    }
   ],
   "source": [
    "gross=df[\"grossincome\"].mean()\n",
    "print(gross)"
   ]
  },
  {
   "cell_type": "markdown",
   "metadata": {},
   "source": [
    "11. Which Branch has highest Rating"
   ]
  },
  {
   "cell_type": "code",
   "execution_count": 31,
   "metadata": {},
   "outputs": [
    {
     "name": "stdout",
     "output_type": "stream",
     "text": [
      "C\n"
     ]
    }
   ],
   "source": [
    "rating=df.groupby(\"Branch\")[\"Rating\"].mean()\n",
    "highest_r=rating.idxmax()\n",
    "print(highest_r)"
   ]
  },
  {
   "cell_type": "markdown",
   "metadata": {},
   "source": [
    "12. Which product line has highest Quantity sale"
   ]
  },
  {
   "cell_type": "code",
   "execution_count": 32,
   "metadata": {},
   "outputs": [
    {
     "name": "stdout",
     "output_type": "stream",
     "text": [
      "Electronic accessories\n"
     ]
    }
   ],
   "source": [
    "product=df.groupby(\"Productline\")[\"Quantity\"].sum()\n",
    "highest=product.idxmax()\n",
    "print(highest)\n"
   ]
  },
  {
   "cell_type": "markdown",
   "metadata": {},
   "source": [
    "13. Which product line has highest female customer"
   ]
  },
  {
   "cell_type": "code",
   "execution_count": null,
   "metadata": {},
   "outputs": [
    {
     "name": "stdout",
     "output_type": "stream",
     "text": [
      "Fashion accessories\n"
     ]
    }
   ],
   "source": [
    "female=df[df[\"Gender\"]==\"Female\"]\n",
    "customer=female.groupby(\"Productline\").size()\n",
    "product=customer.idxmax()\n",
    "print(product)"
   ]
  },
  {
   "cell_type": "markdown",
   "metadata": {},
   "source": [
    "14. Which product has lowest rating"
   ]
  },
  {
   "cell_type": "code",
   "execution_count": 34,
   "metadata": {},
   "outputs": [
    {
     "name": "stdout",
     "output_type": "stream",
     "text": [
      "Food and beverages\n"
     ]
    }
   ],
   "source": [
    "lowest=df.loc[df[\"Rating\"].idxmin()]\n",
    "product_name=lowest[\"Productline\"]\n",
    "print(product_name)"
   ]
  },
  {
   "cell_type": "markdown",
   "metadata": {},
   "source": [
    "15. Which city has more customers"
   ]
  },
  {
   "cell_type": "code",
   "execution_count": null,
   "metadata": {},
   "outputs": [
    {
     "name": "stdout",
     "output_type": "stream",
     "text": [
      "Yangon\n"
     ]
    }
   ],
   "source": [
    "city=df[\"City\"].value_counts()\n",
    "customerss=city.idxmax()\n",
    "print(customerss)"
   ]
  },
  {
   "cell_type": "markdown",
   "metadata": {},
   "source": [
    "16.IDENTIFY THE PRODUCTS AND ITS QUANTITY?"
   ]
  },
  {
   "cell_type": "code",
   "execution_count": null,
   "metadata": {},
   "outputs": [
    {
     "name": "stdout",
     "output_type": "stream",
     "text": [
      "Productline\n",
      "Electronic accessories    971\n",
      "Fashion accessories       902\n",
      "Food and beverages        952\n",
      "Health and beauty         854\n",
      "Home and lifestyle        911\n",
      "Sports and travel         920\n",
      "Name: Quantity, dtype: int64\n"
     ]
    },
    {
     "data": {
      "image/png": "[encoded data removed]",
      "text/plain": [
       "<Figure size 640x480 with 1 Axes>"
      ]
     },
     "metadata": {},
     "output_type": "display_data"
    }
   ],
   "source": [
    "Products=df.groupby(\"Productline\")[\"Quantity\"].sum()\n",
    "print(Products)\n",
    "\n",
    "Products.plot(kind=\"bar\",color=\"red\")\n",
    "plt.xlabel(\"productline\")\n",
    "plt.ylabel(\"quantity\")\n",
    "plt.title(\"products and its quantitt\")\n",
    "plt.show()\n"
   ]
  },
  {
   "cell_type": "markdown",
   "metadata": {},
   "source": [
    "CONCLUSION"
   ]
  },
  {
   "cell_type": "markdown",
   "metadata": {},
   "source": [
    "The dataset presents various questions related to the supermarket's sales performance and customer demographics. Key inquiries include identifying the most preferred payment method, categorizing the types of branches and product lines, and determining which branch generates the highest gross income. Additional questions aim to explore the customer distribution across different branches, as well as the gender breakdown of customers. The dataset also seeks insights on which date has the highest total sales, the product with the highest unit price, and the overall average gross income. Further, it aims to determine which branch has the highest rating, which product line has the highest quantity sold, and the product line most popular among female customers. Finally, the analysis also focuses on the lowest-rated product and identifies the city with the highest customer base.\n"
   ]
  }
 ],
 "metadata": {
  "kernelspec": {
   "display_name": "Python 3",
   "language": "python",
   "name": "python3"
  },
  "language_info": {
   "codemirror_mode": {
    "name": "ipython",
    "version": 3
   },
   "file_extension": ".py",
   "mimetype": "text/x-python",
   "name": "python",
   "nbconvert_exporter": "python",
   "pygments_lexer": "ipython3",
   "version": "3.10.11"
  }
 },
 "nbformat": 4,
 "nbformat_minor": 2
}
